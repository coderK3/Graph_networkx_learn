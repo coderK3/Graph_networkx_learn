{
 "cells": [
  {
   "cell_type": "code",
   "execution_count": null,
   "metadata": {},
   "outputs": [],
   "source": [
    "import networkx as nx\n",
    "import matplotlib.pyplot as plt\n",
    "G= nx.star_graph(20)\n",
    "pos=nx.spring_layout(G)\n",
    "colors=range(20)\n",
    "nx.draw(G,pos,node_color='#A0CBE2',edge_color=colors,\n",
    "       width=4,edge_cmap=plt.cm.Blues,with_lables=False)\n",
    "plt.show()\n",
    "plt.savefig(edge_color_map.png)"
   ]
  },
  {
   "cell_type": "code",
   "execution_count": null,
   "metadata": {},
   "outputs": [],
   "source": []
  }
 ],
 "metadata": {
  "kernelspec": {
   "display_name": "Python 2",
   "language": "python",
   "name": "python2"
  },
  "language_info": {
   "codemirror_mode": {
    "name": "ipython",
    "version": 2
   },
   "file_extension": ".py",
   "mimetype": "text/x-python",
   "name": "python",
   "nbconvert_exporter": "python",
   "pygments_lexer": "ipython2",
   "version": "2.7.13"
  }
 },
 "nbformat": 4,
 "nbformat_minor": 2
}
